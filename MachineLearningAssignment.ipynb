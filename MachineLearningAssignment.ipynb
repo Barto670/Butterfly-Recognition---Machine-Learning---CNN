{
 "cells": [
  {
   "cell_type": "code",
   "execution_count": 1,
   "metadata": {
    "id": "MVcPwFhvsch4"
   },
   "outputs": [],
   "source": [
    "# 18222757 Maciej Augustynek ,18244327 Bartlomiej Skorecki\n",
    "# Code executes till the end without errors\n",
    "# Original source : https://www.kaggle.com/esraamohamedahmed/classification-of-butterflies-images"
   ]
  },
  {
   "cell_type": "code",
   "execution_count": 2,
   "metadata": {
    "id": "EBh-8oBAtiV5"
   },
   "outputs": [],
   "source": [
    "# This Python 3 environment comes with many helpful analytics libraries installed\n",
    "# It is defined by the kaggle/python Docker image: https://github.com/kaggle/docker-python\n",
    "# For example, here's several helpful packages to load\n",
    "\n",
    "import numpy as np \n",
    "import pandas as pd\n",
    "import os\n",
    "from tensorflow.keras.metrics import Precision , Recall"
   ]
  },
  {
   "cell_type": "code",
   "execution_count": 3,
   "metadata": {
    "id": "oyK5dKektuTp"
   },
   "outputs": [],
   "source": [
    "import cv2\n",
    "path='./images/'\n",
    "file=os.listdir('./images/')\n",
    "features=[] #to store images\n",
    "labels=[] #to store labels\n",
    "for img in file:\n",
    "    # label=int(img) \n",
    "    label=int(img[:3]) #extracts label from the image file name\n",
    "    labels.append(label) #adds the found label to the list of labels\n",
    "    img_array=cv2.imread(os.path.join(path,img),cv2.IMREAD_COLOR)\n",
    "    #Resizes images into the size 220x220\n",
    "    img_array=cv2.resize(img_array,(220,220))\n",
    "    #stores images in the array\n",
    "    features.append(img_array)"
   ]
  },
  {
   "cell_type": "code",
   "execution_count": 4,
   "metadata": {
    "id": "EkIz7S2Ot4w4"
   },
   "outputs": [
    {
     "data": {
      "text/plain": [
       "['001.txt',\n",
       " '002.txt',\n",
       " '003.txt',\n",
       " '004.txt',\n",
       " '005.txt',\n",
       " '006.txt',\n",
       " '007.txt',\n",
       " '008.txt',\n",
       " '009.txt',\n",
       " '010.txt']"
      ]
     },
     "execution_count": 4,
     "metadata": {},
     "output_type": "execute_result"
    }
   ],
   "source": [
    "import os\n",
    "descrid_path='./descriptions'\n",
    "descrid=os.listdir('./descriptions')\n",
    "descrid"
   ]
  },
  {
   "cell_type": "code",
   "execution_count": 5,
   "metadata": {
    "id": "sNhJA5gEt5Gc"
   },
   "outputs": [],
   "source": [
    "#Creating a list of butterfly types\n",
    "dict_1={'001': 'Danaus_plexippus', '002': 'Heliconius_charitonius', '003': 'Heliconius_erato', '004': 'Junonia_coenia', '005': 'Lycaena_phlaeas', '006': 'Nymphalis_antiopa', '007': 'Papilio_cresphontes', '008': 'Pieris_rapae', '009': 'Vanessa_atalanta', '0010': 'Vanessa_cardui'} "
   ]
  },
  {
   "cell_type": "code",
   "execution_count": 6,
   "metadata": {
    "id": "p9QAUoPQt5IQ"
   },
   "outputs": [
    {
     "name": "stdout",
     "output_type": "stream",
     "text": [
      "{1, 2, 3, 4, 5, 6, 7, 8, 9, 10}\n",
      "{'Junonia_coenia', 'Vanessa_cardui', 'Heliconius_erato', 'Lycaena_phlaeas', 'Nymphalis_antiopa', 'Heliconius_charitonius', 'Danaus_plexippus', 'Vanessa_atalanta', 'Pieris_rapae', 'Papilio_cresphontes'}\n"
     ]
    }
   ],
   "source": [
    "print(set(labels))\n",
    "list_labels=[]\n",
    "#We add labels to a set for each image in the dataset. We will use this list later to assign the labels to the images.\n",
    "for i in labels:\n",
    "    new_label=dict_1['00'+str(i)]\n",
    "    list_labels.append(new_label)\n",
    "#Printed unique labels from the labels added\n",
    "print(set(list_labels)) "
   ]
  },
  {
   "cell_type": "code",
   "execution_count": 7,
   "metadata": {
    "id": "7BUvaHZwt5KE"
   },
   "outputs": [
    {
     "name": "stdout",
     "output_type": "stream",
     "text": [
      "(832, 220, 220, 3)\n"
     ]
    }
   ],
   "source": [
    "import numpy as np\n",
    "#We change the 220x220 images into a numpy array to make it easier for them to work with the model\n",
    "features=np.array(features)\n",
    "#Normalising the images\n",
    "features=features/255.0\n",
    "features=features.reshape(-1,220,220,3)\n",
    "print(features.shape)"
   ]
  },
  {
   "cell_type": "code",
   "execution_count": 8,
   "metadata": {
    "id": "De2ihj3_t5SG"
   },
   "outputs": [],
   "source": [
    "#OneHotEncoding:To deal with categorical values we need to preprocess it using onehot ecnoding\n",
    "from sklearn.preprocessing import OneHotEncoder,LabelEncoder\n",
    "#One hot encoding coverts our labels so they can be processed by the ML model better to get a better prediction\n",
    "le=LabelEncoder()\n",
    "#Fits our labels into the LabelEncoder and returns the transformed data\n",
    "y=le.fit_transform(list_labels)\n",
    "from tensorflow.keras.utils import to_categorical\n",
    "#Needs to be changed to to_categorical since we have more than 2 classes to be identified\n",
    "y=to_categorical(y)"
   ]
  },
  {
   "cell_type": "code",
   "execution_count": 9,
   "metadata": {
    "id": "kBQn7MdGt5T7"
   },
   "outputs": [],
   "source": [
    "from sklearn.model_selection import train_test_split\n",
    "#Splits our data into our training and test dataset. Our test data is 20% of the overall data and training data is 80%\n",
    "x_train,x_test,y_train,y_test=train_test_split(features,y,random_state=11,test_size=0.2)"
   ]
  },
  {
   "cell_type": "code",
   "execution_count": 10,
   "metadata": {
    "id": "ztrKG8a-t_2g"
   },
   "outputs": [],
   "source": [
    "from tensorflow.keras.layers import (\n",
    "    BatchNormalization, Conv2D, MaxPooling2D, Activation, Flatten, Dropout, Dense\n",
    ")\n",
    "from tensorflow.keras.models import Sequential\n",
    "from tensorflow.keras.optimizers import Adam\n",
    "from tensorflow.keras.regularizers import l2,l1\n",
    "from tensorflow.keras import layers\n",
    "import tensorflow as tf\n",
    "\n",
    "#Building the model\n",
    "\n",
    "data_augmentation = tf.keras.Sequential([\n",
    "  layers.RandomFlip(\"horizontal_and_vertical\"),\n",
    "  layers.RandomRotation(0.2),\n",
    "])\n",
    "\n",
    "model = tf.keras.Sequential([\n",
    "  # Add the preprocessing layers you created earlier.\n",
    "  data_augmentation,\n",
    "])\n",
    "\n",
    "\n",
    "# Allows us to create multiple layers to use a CNN structure\n",
    "model.add(Conv2D(32, (3,3), padding=\"same\", activation = 'relu', kernel_regularizer=l2(0.0002) , input_shape=(220,220,3)))\n",
    "model.add(BatchNormalization())\n",
    "model.add(MaxPooling2D((3,3)))\n",
    "\n",
    "\n",
    "model.add(Conv2D(32, (5, 5), activation='relu', kernel_regularizer=l2(0.0002))) \n",
    "model.add(BatchNormalization())\n",
    "model.add(MaxPooling2D((3,3)))\n",
    "\n",
    "\n",
    "model.add(Conv2D(64, (3, 3), activation='relu', kernel_regularizer=l2(0.0002))) \n",
    "model.add(BatchNormalization())\n",
    "model.add(MaxPooling2D((2, 2)))\n",
    "\n",
    "\n",
    "model.add(Conv2D(128, (3, 3), activation='relu', kernel_regularizer=l2(0.0002))) \n",
    "model.add(BatchNormalization())\n",
    "model.add(MaxPooling2D((2, 2)))\n",
    "\n",
    "\n",
    "model.add(Conv2D(128, (3, 3), activation='relu' , kernel_regularizer=l2(0.0002))) \n",
    "model.add(BatchNormalization())\n",
    "model.add(MaxPooling2D((2, 2)))\n",
    "\n",
    "\n",
    "model.add(Flatten())\n",
    "# Dropout layer used to help reduce overfitting\n",
    "\n",
    "model.add(Dense(100, activation='relu'))\n",
    "model.add(Dropout(0.3))\n",
    "\n",
    "model.add(Dense(100, activation='relu'))\n",
    "model.add(Dropout(0.3))\n",
    "\n",
    "# Output layer have 10 labels \n",
    "model.add(Dense(10, activation='softmax'))\n",
    "\n"
   ]
  },
  {
   "cell_type": "code",
   "execution_count": 11,
   "metadata": {
    "id": "iar8DH8Ht_4Q"
   },
   "outputs": [
    {
     "name": "stdout",
     "output_type": "stream",
     "text": [
      "Epoch 1/50\n",
      "45/45 [==============================] - 10s 201ms/step - loss: 2.3509 - accuracy: 0.2425 - precision: 0.3564 - recall: 0.0677 - val_loss: 2.4034 - val_accuracy: 0.1654 - val_precision: 0.0000e+00 - val_recall: 0.0000e+00\n",
      "Epoch 2/50\n",
      "45/45 [==============================] - 9s 196ms/step - loss: 1.7121 - accuracy: 0.4023 - precision: 0.5341 - recall: 0.1767 - val_loss: 2.7549 - val_accuracy: 0.1128 - val_precision: 0.0000e+00 - val_recall: 0.0000e+00\n",
      "Epoch 3/50\n",
      "45/45 [==============================] - 10s 216ms/step - loss: 1.4059 - accuracy: 0.5056 - precision: 0.6613 - recall: 0.3083 - val_loss: 2.7818 - val_accuracy: 0.0977 - val_precision: 0.6429 - val_recall: 0.0677\n",
      "Epoch 4/50\n",
      "45/45 [==============================] - 9s 194ms/step - loss: 1.1819 - accuracy: 0.6053 - precision: 0.6923 - recall: 0.4060 - val_loss: 2.8584 - val_accuracy: 0.2030 - val_precision: 0.5714 - val_recall: 0.0301\n",
      "Epoch 5/50\n",
      "45/45 [==============================] - 9s 193ms/step - loss: 0.9728 - accuracy: 0.6711 - precision: 0.7709 - recall: 0.5376 - val_loss: 3.2845 - val_accuracy: 0.1353 - val_precision: 0.2821 - val_recall: 0.0827\n",
      "Epoch 6/50\n",
      "45/45 [==============================] - 9s 193ms/step - loss: 0.9323 - accuracy: 0.7011 - precision: 0.7876 - recall: 0.6203 - val_loss: 3.1803 - val_accuracy: 0.2932 - val_precision: 0.3472 - val_recall: 0.1880\n",
      "Epoch 7/50\n",
      "45/45 [==============================] - 9s 193ms/step - loss: 0.7773 - accuracy: 0.7575 - precision: 0.8248 - recall: 0.6635 - val_loss: 2.9660 - val_accuracy: 0.1805 - val_precision: 0.2347 - val_recall: 0.1729\n",
      "Epoch 8/50\n",
      "45/45 [==============================] - 9s 194ms/step - loss: 0.7163 - accuracy: 0.8026 - precision: 0.8425 - recall: 0.7237 - val_loss: 2.5247 - val_accuracy: 0.3383 - val_precision: 0.3364 - val_recall: 0.2782\n",
      "Epoch 9/50\n",
      "45/45 [==============================] - 9s 194ms/step - loss: 0.7235 - accuracy: 0.7632 - precision: 0.8396 - recall: 0.7180 - val_loss: 1.8553 - val_accuracy: 0.4436 - val_precision: 0.4857 - val_recall: 0.3835\n",
      "Epoch 10/50\n",
      "45/45 [==============================] - 9s 194ms/step - loss: 0.6003 - accuracy: 0.8139 - precision: 0.8729 - recall: 0.7744 - val_loss: 0.9475 - val_accuracy: 0.7519 - val_precision: 0.7886 - val_recall: 0.7293\n",
      "Epoch 11/50\n",
      "45/45 [==============================] - 9s 195ms/step - loss: 0.6126 - accuracy: 0.8064 - precision: 0.8446 - recall: 0.7763 - val_loss: 0.6621 - val_accuracy: 0.7970 - val_precision: 0.8254 - val_recall: 0.7820\n",
      "Epoch 12/50\n",
      "45/45 [==============================] - 9s 194ms/step - loss: 0.4740 - accuracy: 0.8797 - precision: 0.9165 - recall: 0.8252 - val_loss: 0.5948 - val_accuracy: 0.8346 - val_precision: 0.8607 - val_recall: 0.7895\n",
      "Epoch 13/50\n",
      "45/45 [==============================] - 9s 194ms/step - loss: 0.4822 - accuracy: 0.8665 - precision: 0.8996 - recall: 0.8421 - val_loss: 0.5372 - val_accuracy: 0.8571 - val_precision: 0.9174 - val_recall: 0.8346\n",
      "Epoch 14/50\n",
      "45/45 [==============================] - 9s 194ms/step - loss: 0.5019 - accuracy: 0.8665 - precision: 0.9004 - recall: 0.8327 - val_loss: 0.6038 - val_accuracy: 0.8346 - val_precision: 0.8862 - val_recall: 0.8195\n",
      "Epoch 15/50\n",
      "45/45 [==============================] - 9s 194ms/step - loss: 0.3956 - accuracy: 0.8947 - precision: 0.9112 - recall: 0.8684 - val_loss: 0.7185 - val_accuracy: 0.8496 - val_precision: 0.8800 - val_recall: 0.8271\n",
      "Epoch 16/50\n",
      "45/45 [==============================] - 9s 194ms/step - loss: 0.4719 - accuracy: 0.8741 - precision: 0.8926 - recall: 0.8590 - val_loss: 0.7618 - val_accuracy: 0.8045 - val_precision: 0.8387 - val_recall: 0.7820\n",
      "Epoch 17/50\n",
      "45/45 [==============================] - 9s 196ms/step - loss: 0.5482 - accuracy: 0.8534 - precision: 0.8825 - recall: 0.8327 - val_loss: 0.5116 - val_accuracy: 0.8647 - val_precision: 0.9055 - val_recall: 0.8647\n",
      "Epoch 18/50\n",
      "45/45 [==============================] - 9s 199ms/step - loss: 0.4992 - accuracy: 0.8684 - precision: 0.8924 - recall: 0.8421 - val_loss: 0.6043 - val_accuracy: 0.8496 - val_precision: 0.8871 - val_recall: 0.8271\n",
      "Epoch 19/50\n",
      "45/45 [==============================] - 9s 198ms/step - loss: 0.3993 - accuracy: 0.8910 - precision: 0.9225 - recall: 0.8722 - val_loss: 0.5319 - val_accuracy: 0.8271 - val_precision: 0.8629 - val_recall: 0.8045\n",
      "Epoch 20/50\n",
      "45/45 [==============================] - 9s 202ms/step - loss: 0.4216 - accuracy: 0.8872 - precision: 0.9107 - recall: 0.8628 - val_loss: 0.5978 - val_accuracy: 0.8571 - val_precision: 0.8682 - val_recall: 0.8421\n",
      "Epoch 21/50\n",
      "45/45 [==============================] - 9s 201ms/step - loss: 0.4363 - accuracy: 0.8910 - precision: 0.9203 - recall: 0.8684 - val_loss: 0.4249 - val_accuracy: 0.8872 - val_precision: 0.9206 - val_recall: 0.8722\n",
      "Epoch 22/50\n",
      "45/45 [==============================] - 9s 194ms/step - loss: 0.3512 - accuracy: 0.9173 - precision: 0.9368 - recall: 0.8910 - val_loss: 0.5085 - val_accuracy: 0.8722 - val_precision: 0.8915 - val_recall: 0.8647\n",
      "Epoch 23/50\n",
      "45/45 [==============================] - 9s 198ms/step - loss: 0.3687 - accuracy: 0.9023 - precision: 0.9168 - recall: 0.8910 - val_loss: 0.4156 - val_accuracy: 0.9023 - val_precision: 0.9286 - val_recall: 0.8797\n",
      "Epoch 24/50\n",
      "45/45 [==============================] - 9s 198ms/step - loss: 0.3426 - accuracy: 0.9173 - precision: 0.9409 - recall: 0.8985 - val_loss: 0.6135 - val_accuracy: 0.8496 - val_precision: 0.8692 - val_recall: 0.8496\n",
      "Epoch 25/50\n",
      "45/45 [==============================] - 9s 195ms/step - loss: 0.3307 - accuracy: 0.9267 - precision: 0.9346 - recall: 0.9135 - val_loss: 0.7331 - val_accuracy: 0.7895 - val_precision: 0.8320 - val_recall: 0.7820\n",
      "Epoch 26/50\n",
      "45/45 [==============================] - 9s 194ms/step - loss: 0.3383 - accuracy: 0.9286 - precision: 0.9400 - recall: 0.9135 - val_loss: 0.3081 - val_accuracy: 0.9474 - val_precision: 0.9690 - val_recall: 0.9398\n",
      "Epoch 27/50\n",
      "45/45 [==============================] - 9s 194ms/step - loss: 0.2865 - accuracy: 0.9342 - precision: 0.9454 - recall: 0.9117 - val_loss: 0.4687 - val_accuracy: 0.9248 - val_precision: 0.9297 - val_recall: 0.8947\n",
      "Epoch 28/50\n",
      "45/45 [==============================] - 9s 194ms/step - loss: 0.3242 - accuracy: 0.9305 - precision: 0.9363 - recall: 0.9117 - val_loss: 0.4428 - val_accuracy: 0.8571 - val_precision: 0.8837 - val_recall: 0.8571\n",
      "Epoch 29/50\n",
      "45/45 [==============================] - 9s 193ms/step - loss: 0.3216 - accuracy: 0.9154 - precision: 0.9339 - recall: 0.9023 - val_loss: 0.3334 - val_accuracy: 0.9323 - val_precision: 0.9685 - val_recall: 0.9248\n",
      "Epoch 30/50\n",
      "45/45 [==============================] - 9s 202ms/step - loss: 0.2327 - accuracy: 0.9455 - precision: 0.9633 - recall: 0.9380 - val_loss: 0.3703 - val_accuracy: 0.9398 - val_precision: 0.9538 - val_recall: 0.9323\n",
      "Epoch 31/50\n",
      "45/45 [==============================] - 9s 208ms/step - loss: 0.2719 - accuracy: 0.9436 - precision: 0.9538 - recall: 0.9305 - val_loss: 0.4711 - val_accuracy: 0.9098 - val_precision: 0.9167 - val_recall: 0.9098\n",
      "Epoch 32/50\n",
      "45/45 [==============================] - 9s 211ms/step - loss: 0.2956 - accuracy: 0.9361 - precision: 0.9498 - recall: 0.9248 - val_loss: 0.6000 - val_accuracy: 0.8271 - val_precision: 0.8397 - val_recall: 0.8271\n",
      "Epoch 33/50\n",
      "45/45 [==============================] - 10s 212ms/step - loss: 0.2888 - accuracy: 0.9380 - precision: 0.9549 - recall: 0.9154 - val_loss: 0.5526 - val_accuracy: 0.8872 - val_precision: 0.9194 - val_recall: 0.8571\n",
      "Epoch 34/50\n",
      "45/45 [==============================] - 10s 212ms/step - loss: 0.2560 - accuracy: 0.9605 - precision: 0.9618 - recall: 0.9474 - val_loss: 0.5650 - val_accuracy: 0.8872 - val_precision: 0.9000 - val_recall: 0.8797\n",
      "Epoch 35/50\n",
      "45/45 [==============================] - 9s 209ms/step - loss: 0.2529 - accuracy: 0.9436 - precision: 0.9482 - recall: 0.9286 - val_loss: 0.3693 - val_accuracy: 0.9023 - val_precision: 0.9225 - val_recall: 0.8947\n",
      "Epoch 36/50\n",
      "45/45 [==============================] - 9s 208ms/step - loss: 0.3098 - accuracy: 0.9361 - precision: 0.9443 - recall: 0.9248 - val_loss: 0.5263 - val_accuracy: 0.8947 - val_precision: 0.9077 - val_recall: 0.8872\n",
      "Epoch 37/50\n"
     ]
    },
    {
     "name": "stdout",
     "output_type": "stream",
     "text": [
      "45/45 [==============================] - 9s 208ms/step - loss: 0.3048 - accuracy: 0.9380 - precision: 0.9461 - recall: 0.9229 - val_loss: 0.3356 - val_accuracy: 0.9323 - val_precision: 0.9538 - val_recall: 0.9323\n",
      "Epoch 38/50\n",
      "45/45 [==============================] - 9s 207ms/step - loss: 0.2160 - accuracy: 0.9624 - precision: 0.9714 - recall: 0.9586 - val_loss: 0.7666 - val_accuracy: 0.8647 - val_precision: 0.8779 - val_recall: 0.8647\n",
      "Epoch 39/50\n",
      "45/45 [==============================] - 9s 208ms/step - loss: 0.3285 - accuracy: 0.9305 - precision: 0.9405 - recall: 0.9211 - val_loss: 1.5713 - val_accuracy: 0.6692 - val_precision: 0.6850 - val_recall: 0.6541\n",
      "Epoch 40/50\n",
      "45/45 [==============================] - 9s 208ms/step - loss: 0.3669 - accuracy: 0.9267 - precision: 0.9344 - recall: 0.9098 - val_loss: 0.5735 - val_accuracy: 0.8872 - val_precision: 0.9055 - val_recall: 0.8647\n",
      "Epoch 41/50\n",
      "45/45 [==============================] - 9s 208ms/step - loss: 0.2234 - accuracy: 0.9624 - precision: 0.9710 - recall: 0.9455 - val_loss: 0.5682 - val_accuracy: 0.8872 - val_precision: 0.8923 - val_recall: 0.8722\n",
      "Epoch 42/50\n",
      "45/45 [==============================] - 9s 208ms/step - loss: 0.2587 - accuracy: 0.9568 - precision: 0.9693 - recall: 0.9492 - val_loss: 1.0067 - val_accuracy: 0.7820 - val_precision: 0.8031 - val_recall: 0.7669\n",
      "Epoch 43/50\n",
      "45/45 [==============================] - 9s 208ms/step - loss: 0.2353 - accuracy: 0.9530 - precision: 0.9619 - recall: 0.9492 - val_loss: 0.4180 - val_accuracy: 0.9323 - val_precision: 0.9389 - val_recall: 0.9248\n",
      "Epoch 44/50\n",
      "45/45 [==============================] - 9s 209ms/step - loss: 0.2117 - accuracy: 0.9718 - precision: 0.9754 - recall: 0.9680 - val_loss: 0.4062 - val_accuracy: 0.9248 - val_precision: 0.9242 - val_recall: 0.9173\n",
      "Epoch 45/50\n",
      "45/45 [==============================] - 9s 209ms/step - loss: 0.2181 - accuracy: 0.9624 - precision: 0.9656 - recall: 0.9492 - val_loss: 0.4283 - val_accuracy: 0.9098 - val_precision: 0.9098 - val_recall: 0.9098\n",
      "Epoch 46/50\n",
      "45/45 [==============================] - 9s 208ms/step - loss: 0.1732 - accuracy: 0.9737 - precision: 0.9791 - recall: 0.9699 - val_loss: 0.2487 - val_accuracy: 0.9624 - val_precision: 0.9695 - val_recall: 0.9549\n",
      "Epoch 47/50\n",
      "45/45 [==============================] - 9s 207ms/step - loss: 0.1816 - accuracy: 0.9699 - precision: 0.9753 - recall: 0.9643 - val_loss: 0.2779 - val_accuracy: 0.9549 - val_precision: 0.9618 - val_recall: 0.9474\n",
      "Epoch 48/50\n",
      "45/45 [==============================] - 9s 208ms/step - loss: 0.1726 - accuracy: 0.9793 - precision: 0.9792 - recall: 0.9718 - val_loss: 0.2820 - val_accuracy: 0.9549 - val_precision: 0.9618 - val_recall: 0.9474\n",
      "Epoch 49/50\n",
      "45/45 [==============================] - 9s 208ms/step - loss: 0.2060 - accuracy: 0.9624 - precision: 0.9695 - recall: 0.9549 - val_loss: 0.2332 - val_accuracy: 0.9549 - val_precision: 0.9618 - val_recall: 0.9474\n",
      "Epoch 50/50\n",
      "45/45 [==============================] - 9s 208ms/step - loss: 0.3437 - accuracy: 0.9455 - precision: 0.9544 - recall: 0.9436 - val_loss: 0.5702 - val_accuracy: 0.8722 - val_precision: 0.8915 - val_recall: 0.8647\n",
      "Model: \"sequential_1\"\n",
      "_________________________________________________________________\n",
      "Layer (type)                 Output Shape              Param #   \n",
      "=================================================================\n",
      "sequential (Sequential)      (None, 220, 220, 3)       0         \n",
      "_________________________________________________________________\n",
      "conv2d (Conv2D)              (None, 220, 220, 32)      896       \n",
      "_________________________________________________________________\n",
      "batch_normalization (BatchNo (None, 220, 220, 32)      128       \n",
      "_________________________________________________________________\n",
      "max_pooling2d (MaxPooling2D) (None, 73, 73, 32)        0         \n",
      "_________________________________________________________________\n",
      "conv2d_1 (Conv2D)            (None, 69, 69, 32)        25632     \n",
      "_________________________________________________________________\n",
      "batch_normalization_1 (Batch (None, 69, 69, 32)        128       \n",
      "_________________________________________________________________\n",
      "max_pooling2d_1 (MaxPooling2 (None, 23, 23, 32)        0         \n",
      "_________________________________________________________________\n",
      "conv2d_2 (Conv2D)            (None, 21, 21, 64)        18496     \n",
      "_________________________________________________________________\n",
      "batch_normalization_2 (Batch (None, 21, 21, 64)        256       \n",
      "_________________________________________________________________\n",
      "max_pooling2d_2 (MaxPooling2 (None, 10, 10, 64)        0         \n",
      "_________________________________________________________________\n",
      "conv2d_3 (Conv2D)            (None, 8, 8, 128)         73856     \n",
      "_________________________________________________________________\n",
      "batch_normalization_3 (Batch (None, 8, 8, 128)         512       \n",
      "_________________________________________________________________\n",
      "max_pooling2d_3 (MaxPooling2 (None, 4, 4, 128)         0         \n",
      "_________________________________________________________________\n",
      "conv2d_4 (Conv2D)            (None, 2, 2, 128)         147584    \n",
      "_________________________________________________________________\n",
      "batch_normalization_4 (Batch (None, 2, 2, 128)         512       \n",
      "_________________________________________________________________\n",
      "max_pooling2d_4 (MaxPooling2 (None, 1, 1, 128)         0         \n",
      "_________________________________________________________________\n",
      "flatten (Flatten)            (None, 128)               0         \n",
      "_________________________________________________________________\n",
      "dense (Dense)                (None, 100)               12900     \n",
      "_________________________________________________________________\n",
      "dropout (Dropout)            (None, 100)               0         \n",
      "_________________________________________________________________\n",
      "dense_1 (Dense)              (None, 100)               10100     \n",
      "_________________________________________________________________\n",
      "dropout_1 (Dropout)          (None, 100)               0         \n",
      "_________________________________________________________________\n",
      "dense_2 (Dense)              (None, 10)                1010      \n",
      "=================================================================\n",
      "Total params: 292,010\n",
      "Trainable params: 291,242\n",
      "Non-trainable params: 768\n",
      "_________________________________________________________________\n"
     ]
    }
   ],
   "source": [
    "import tensorflow\n",
    "optimizer = tensorflow.keras.optimizers.Adam(0.001)\n",
    "optimizer.learning_rate.assign(0.01)\n",
    "\n",
    "model.compile(optimizer='adam'\n",
    "              ,metrics=['accuracy',Precision(), Recall()],loss='categorical_crossentropy')\n",
    "\n",
    "history=model.fit(x_train,y_train,batch_size=12,epochs=50,validation_split=0.2)\n",
    "model.summary()"
   ]
  },
  {
   "cell_type": "code",
   "execution_count": 12,
   "metadata": {
    "id": "UbCOPYuct_51"
   },
   "outputs": [
    {
     "data": {
      "image/png": "[encoded data removed]",
      "text/plain": [
       "<Figure size 864x576 with 1 Axes>"
      ]
     },
     "metadata": {},
     "output_type": "display_data"
    }
   ],
   "source": [
    "import matplotlib.pyplot as plt\n",
    "import seaborn as sns\n",
    "sns.set_style('whitegrid')\n",
    "plt.figure(figsize=(12,8))\n",
    "plt.plot(history.history['accuracy'])\n",
    "plt.plot(history.history['val_accuracy'])\n",
    "plt.xlabel('Epochs')\n",
    "plt.ylabel('Accuracy score')\n",
    "plt.title('Model Accuracy')\n",
    "plt.legend(['Train','Test'])\n",
    "plt.show()"
   ]
  },
  {
   "cell_type": "code",
   "execution_count": 13,
   "metadata": {
    "id": "9ALJnIz2t_7x"
   },
   "outputs": [
    {
     "name": "stdout",
     "output_type": "stream",
     "text": [
      "6/6 [==============================] - 1s 81ms/step - loss: 0.5087 - accuracy: 0.8982 - precision: 0.9259 - recall: 0.8982\n"
     ]
    }
   ],
   "source": [
    "loss,accuracy,precision,recall=model.evaluate(x_test,y_test)"
   ]
  },
  {
   "cell_type": "code",
   "execution_count": 14,
   "metadata": {
    "id": "51e9xMjft_9t"
   },
   "outputs": [
    {
     "name": "stdout",
     "output_type": "stream",
     "text": [
      "WARNING:tensorflow:`input_shape` is undefined or non-square, or `rows` is not in [96, 128, 160, 192, 224]. Weights for input shape (224, 224) will be loaded as the default.\n",
      "Model: \"mobilenetv2_1.00_224\"\n",
      "__________________________________________________________________________________________________\n",
      "Layer (type)                    Output Shape         Param #     Connected to                     \n",
      "==================================================================================================\n",
      "input_1 (InputLayer)            [(None, 220, 220, 3) 0                                            \n",
      "__________________________________________________________________________________________________\n",
      "Conv1 (Conv2D)                  (None, 110, 110, 32) 864         input_1[0][0]                    \n",
      "__________________________________________________________________________________________________\n",
      "bn_Conv1 (BatchNormalization)   (None, 110, 110, 32) 128         Conv1[0][0]                      \n",
      "__________________________________________________________________________________________________\n",
      "Conv1_relu (ReLU)               (None, 110, 110, 32) 0           bn_Conv1[0][0]                   \n",
      "__________________________________________________________________________________________________\n",
      "expanded_conv_depthwise (Depthw (None, 110, 110, 32) 288         Conv1_relu[0][0]                 \n",
      "__________________________________________________________________________________________________\n",
      "expanded_conv_depthwise_BN (Bat (None, 110, 110, 32) 128         expanded_conv_depthwise[0][0]    \n",
      "__________________________________________________________________________________________________\n",
      "expanded_conv_depthwise_relu (R (None, 110, 110, 32) 0           expanded_conv_depthwise_BN[0][0] \n",
      "__________________________________________________________________________________________________\n",
      "expanded_conv_project (Conv2D)  (None, 110, 110, 16) 512         expanded_conv_depthwise_relu[0][0\n",
      "__________________________________________________________________________________________________\n",
      "expanded_conv_project_BN (Batch (None, 110, 110, 16) 64          expanded_conv_project[0][0]      \n",
      "__________________________________________________________________________________________________\n",
      "block_1_expand (Conv2D)         (None, 110, 110, 96) 1536        expanded_conv_project_BN[0][0]   \n",
      "__________________________________________________________________________________________________\n",
      "block_1_expand_BN (BatchNormali (None, 110, 110, 96) 384         block_1_expand[0][0]             \n",
      "__________________________________________________________________________________________________\n",
      "block_1_expand_relu (ReLU)      (None, 110, 110, 96) 0           block_1_expand_BN[0][0]          \n",
      "__________________________________________________________________________________________________\n",
      "block_1_pad (ZeroPadding2D)     (None, 111, 111, 96) 0           block_1_expand_relu[0][0]        \n",
      "__________________________________________________________________________________________________\n",
      "block_1_depthwise (DepthwiseCon (None, 55, 55, 96)   864         block_1_pad[0][0]                \n",
      "__________________________________________________________________________________________________\n",
      "block_1_depthwise_BN (BatchNorm (None, 55, 55, 96)   384         block_1_depthwise[0][0]          \n",
      "__________________________________________________________________________________________________\n",
      "block_1_depthwise_relu (ReLU)   (None, 55, 55, 96)   0           block_1_depthwise_BN[0][0]       \n",
      "__________________________________________________________________________________________________\n",
      "block_1_project (Conv2D)        (None, 55, 55, 24)   2304        block_1_depthwise_relu[0][0]     \n",
      "__________________________________________________________________________________________________\n",
      "block_1_project_BN (BatchNormal (None, 55, 55, 24)   96          block_1_project[0][0]            \n",
      "__________________________________________________________________________________________________\n",
      "block_2_expand (Conv2D)         (None, 55, 55, 144)  3456        block_1_project_BN[0][0]         \n",
      "__________________________________________________________________________________________________\n",
      "block_2_expand_BN (BatchNormali (None, 55, 55, 144)  576         block_2_expand[0][0]             \n",
      "__________________________________________________________________________________________________\n",
      "block_2_expand_relu (ReLU)      (None, 55, 55, 144)  0           block_2_expand_BN[0][0]          \n",
      "__________________________________________________________________________________________________\n",
      "block_2_depthwise (DepthwiseCon (None, 55, 55, 144)  1296        block_2_expand_relu[0][0]        \n",
      "__________________________________________________________________________________________________\n",
      "block_2_depthwise_BN (BatchNorm (None, 55, 55, 144)  576         block_2_depthwise[0][0]          \n",
      "__________________________________________________________________________________________________\n",
      "block_2_depthwise_relu (ReLU)   (None, 55, 55, 144)  0           block_2_depthwise_BN[0][0]       \n",
      "__________________________________________________________________________________________________\n",
      "block_2_project (Conv2D)        (None, 55, 55, 24)   3456        block_2_depthwise_relu[0][0]     \n",
      "__________________________________________________________________________________________________\n",
      "block_2_project_BN (BatchNormal (None, 55, 55, 24)   96          block_2_project[0][0]            \n",
      "__________________________________________________________________________________________________\n",
      "block_2_add (Add)               (None, 55, 55, 24)   0           block_1_project_BN[0][0]         \n",
      "                                                                 block_2_project_BN[0][0]         \n",
      "__________________________________________________________________________________________________\n",
      "block_3_expand (Conv2D)         (None, 55, 55, 144)  3456        block_2_add[0][0]                \n",
      "__________________________________________________________________________________________________\n",
      "block_3_expand_BN (BatchNormali (None, 55, 55, 144)  576         block_3_expand[0][0]             \n",
      "__________________________________________________________________________________________________\n",
      "block_3_expand_relu (ReLU)      (None, 55, 55, 144)  0           block_3_expand_BN[0][0]          \n",
      "__________________________________________________________________________________________________\n",
      "block_3_pad (ZeroPadding2D)     (None, 57, 57, 144)  0           block_3_expand_relu[0][0]        \n",
      "__________________________________________________________________________________________________\n",
      "block_3_depthwise (DepthwiseCon (None, 28, 28, 144)  1296        block_3_pad[0][0]                \n",
      "__________________________________________________________________________________________________\n",
      "block_3_depthwise_BN (BatchNorm (None, 28, 28, 144)  576         block_3_depthwise[0][0]          \n",
      "__________________________________________________________________________________________________\n",
      "block_3_depthwise_relu (ReLU)   (None, 28, 28, 144)  0           block_3_depthwise_BN[0][0]       \n",
      "__________________________________________________________________________________________________\n",
      "block_3_project (Conv2D)        (None, 28, 28, 32)   4608        block_3_depthwise_relu[0][0]     \n",
      "__________________________________________________________________________________________________\n",
      "block_3_project_BN (BatchNormal (None, 28, 28, 32)   128         block_3_project[0][0]            \n",
      "__________________________________________________________________________________________________\n",
      "block_4_expand (Conv2D)         (None, 28, 28, 192)  6144        block_3_project_BN[0][0]         \n",
      "__________________________________________________________________________________________________\n",
      "block_4_expand_BN (BatchNormali (None, 28, 28, 192)  768         block_4_expand[0][0]             \n",
      "__________________________________________________________________________________________________\n",
      "block_4_expand_relu (ReLU)      (None, 28, 28, 192)  0           block_4_expand_BN[0][0]          \n",
      "__________________________________________________________________________________________________\n",
      "block_4_depthwise (DepthwiseCon (None, 28, 28, 192)  1728        block_4_expand_relu[0][0]        \n",
      "__________________________________________________________________________________________________\n",
      "block_4_depthwise_BN (BatchNorm (None, 28, 28, 192)  768         block_4_depthwise[0][0]          \n",
      "__________________________________________________________________________________________________\n",
      "block_4_depthwise_relu (ReLU)   (None, 28, 28, 192)  0           block_4_depthwise_BN[0][0]       \n",
      "__________________________________________________________________________________________________\n",
      "block_4_project (Conv2D)        (None, 28, 28, 32)   6144        block_4_depthwise_relu[0][0]     \n",
      "__________________________________________________________________________________________________\n",
      "block_4_project_BN (BatchNormal (None, 28, 28, 32)   128         block_4_project[0][0]            \n",
      "__________________________________________________________________________________________________\n",
      "block_4_add (Add)               (None, 28, 28, 32)   0           block_3_project_BN[0][0]         \n",
      "                                                                 block_4_project_BN[0][0]         \n",
      "__________________________________________________________________________________________________\n",
      "block_5_expand (Conv2D)         (None, 28, 28, 192)  6144        block_4_add[0][0]                \n",
      "__________________________________________________________________________________________________\n",
      "block_5_expand_BN (BatchNormali (None, 28, 28, 192)  768         block_5_expand[0][0]             \n",
      "__________________________________________________________________________________________________\n",
      "block_5_expand_relu (ReLU)      (None, 28, 28, 192)  0           block_5_expand_BN[0][0]          \n",
      "__________________________________________________________________________________________________\n",
      "block_5_depthwise (DepthwiseCon (None, 28, 28, 192)  1728        block_5_expand_relu[0][0]        \n",
      "__________________________________________________________________________________________________\n",
      "block_5_depthwise_BN (BatchNorm (None, 28, 28, 192)  768         block_5_depthwise[0][0]          \n",
      "__________________________________________________________________________________________________\n",
      "block_5_depthwise_relu (ReLU)   (None, 28, 28, 192)  0           block_5_depthwise_BN[0][0]       \n",
      "__________________________________________________________________________________________________\n",
      "block_5_project (Conv2D)        (None, 28, 28, 32)   6144        block_5_depthwise_relu[0][0]     \n",
      "__________________________________________________________________________________________________\n",
      "block_5_project_BN (BatchNormal (None, 28, 28, 32)   128         block_5_project[0][0]            \n",
      "__________________________________________________________________________________________________\n",
      "block_5_add (Add)               (None, 28, 28, 32)   0           block_4_add[0][0]                \n",
      "                                                                 block_5_project_BN[0][0]         \n",
      "__________________________________________________________________________________________________\n",
      "block_6_expand (Conv2D)         (None, 28, 28, 192)  6144        block_5_add[0][0]                \n",
      "__________________________________________________________________________________________________\n",
      "block_6_expand_BN (BatchNormali (None, 28, 28, 192)  768         block_6_expand[0][0]             \n",
      "__________________________________________________________________________________________________\n",
      "block_6_expand_relu (ReLU)      (None, 28, 28, 192)  0           block_6_expand_BN[0][0]          \n",
      "__________________________________________________________________________________________________\n",
      "block_6_pad (ZeroPadding2D)     (None, 29, 29, 192)  0           block_6_expand_relu[0][0]        \n",
      "__________________________________________________________________________________________________\n",
      "block_6_depthwise (DepthwiseCon (None, 14, 14, 192)  1728        block_6_pad[0][0]                \n",
      "__________________________________________________________________________________________________\n",
      "block_6_depthwise_BN (BatchNorm (None, 14, 14, 192)  768         block_6_depthwise[0][0]          \n",
      "__________________________________________________________________________________________________\n",
      "block_6_depthwise_relu (ReLU)   (None, 14, 14, 192)  0           block_6_depthwise_BN[0][0]       \n",
      "__________________________________________________________________________________________________\n",
      "block_6_project (Conv2D)        (None, 14, 14, 64)   12288       block_6_depthwise_relu[0][0]     \n",
      "__________________________________________________________________________________________________\n",
      "block_6_project_BN (BatchNormal (None, 14, 14, 64)   256         block_6_project[0][0]            \n",
      "__________________________________________________________________________________________________\n",
      "block_7_expand (Conv2D)         (None, 14, 14, 384)  24576       block_6_project_BN[0][0]         \n",
      "__________________________________________________________________________________________________\n",
      "block_7_expand_BN (BatchNormali (None, 14, 14, 384)  1536        block_7_expand[0][0]             \n",
      "__________________________________________________________________________________________________\n",
      "block_7_expand_relu (ReLU)      (None, 14, 14, 384)  0           block_7_expand_BN[0][0]          \n",
      "__________________________________________________________________________________________________\n",
      "block_7_depthwise (DepthwiseCon (None, 14, 14, 384)  3456        block_7_expand_relu[0][0]        \n",
      "__________________________________________________________________________________________________\n",
      "block_7_depthwise_BN (BatchNorm (None, 14, 14, 384)  1536        block_7_depthwise[0][0]          \n",
      "__________________________________________________________________________________________________\n",
      "block_7_depthwise_relu (ReLU)   (None, 14, 14, 384)  0           block_7_depthwise_BN[0][0]       \n",
      "__________________________________________________________________________________________________\n",
      "block_7_project (Conv2D)        (None, 14, 14, 64)   24576       block_7_depthwise_relu[0][0]     \n",
      "__________________________________________________________________________________________________\n",
      "block_7_project_BN (BatchNormal (None, 14, 14, 64)   256         block_7_project[0][0]            \n",
      "__________________________________________________________________________________________________\n",
      "block_7_add (Add)               (None, 14, 14, 64)   0           block_6_project_BN[0][0]         \n",
      "                                                                 block_7_project_BN[0][0]         \n",
      "__________________________________________________________________________________________________\n",
      "block_8_expand (Conv2D)         (None, 14, 14, 384)  24576       block_7_add[0][0]                \n",
      "__________________________________________________________________________________________________\n",
      "block_8_expand_BN (BatchNormali (None, 14, 14, 384)  1536        block_8_expand[0][0]             \n",
      "__________________________________________________________________________________________________\n",
      "block_8_expand_relu (ReLU)      (None, 14, 14, 384)  0           block_8_expand_BN[0][0]          \n",
      "__________________________________________________________________________________________________\n",
      "block_8_depthwise (DepthwiseCon (None, 14, 14, 384)  3456        block_8_expand_relu[0][0]        \n",
      "__________________________________________________________________________________________________\n",
      "block_8_depthwise_BN (BatchNorm (None, 14, 14, 384)  1536        block_8_depthwise[0][0]          \n",
      "__________________________________________________________________________________________________\n",
      "block_8_depthwise_relu (ReLU)   (None, 14, 14, 384)  0           block_8_depthwise_BN[0][0]       \n",
      "__________________________________________________________________________________________________\n",
      "block_8_project (Conv2D)        (None, 14, 14, 64)   24576       block_8_depthwise_relu[0][0]     \n",
      "__________________________________________________________________________________________________\n",
      "block_8_project_BN (BatchNormal (None, 14, 14, 64)   256         block_8_project[0][0]            \n",
      "__________________________________________________________________________________________________\n",
      "block_8_add (Add)               (None, 14, 14, 64)   0           block_7_add[0][0]                \n",
      "                                                                 block_8_project_BN[0][0]         \n",
      "__________________________________________________________________________________________________\n",
      "block_9_expand (Conv2D)         (None, 14, 14, 384)  24576       block_8_add[0][0]                \n",
      "__________________________________________________________________________________________________\n",
      "block_9_expand_BN (BatchNormali (None, 14, 14, 384)  1536        block_9_expand[0][0]             \n",
      "__________________________________________________________________________________________________\n",
      "block_9_expand_relu (ReLU)      (None, 14, 14, 384)  0           block_9_expand_BN[0][0]          \n",
      "__________________________________________________________________________________________________\n",
      "block_9_depthwise (DepthwiseCon (None, 14, 14, 384)  3456        block_9_expand_relu[0][0]        \n",
      "__________________________________________________________________________________________________\n",
      "block_9_depthwise_BN (BatchNorm (None, 14, 14, 384)  1536        block_9_depthwise[0][0]          \n",
      "__________________________________________________________________________________________________\n",
      "block_9_depthwise_relu (ReLU)   (None, 14, 14, 384)  0           block_9_depthwise_BN[0][0]       \n",
      "__________________________________________________________________________________________________\n",
      "block_9_project (Conv2D)        (None, 14, 14, 64)   24576       block_9_depthwise_relu[0][0]     \n",
      "__________________________________________________________________________________________________\n",
      "block_9_project_BN (BatchNormal (None, 14, 14, 64)   256         block_9_project[0][0]            \n",
      "__________________________________________________________________________________________________\n",
      "block_9_add (Add)               (None, 14, 14, 64)   0           block_8_add[0][0]                \n",
      "                                                                 block_9_project_BN[0][0]         \n",
      "__________________________________________________________________________________________________\n",
      "block_10_expand (Conv2D)        (None, 14, 14, 384)  24576       block_9_add[0][0]                \n",
      "__________________________________________________________________________________________________\n",
      "block_10_expand_BN (BatchNormal (None, 14, 14, 384)  1536        block_10_expand[0][0]            \n",
      "__________________________________________________________________________________________________\n",
      "block_10_expand_relu (ReLU)     (None, 14, 14, 384)  0           block_10_expand_BN[0][0]         \n",
      "__________________________________________________________________________________________________\n",
      "block_10_depthwise (DepthwiseCo (None, 14, 14, 384)  3456        block_10_expand_relu[0][0]       \n",
      "__________________________________________________________________________________________________\n",
      "block_10_depthwise_BN (BatchNor (None, 14, 14, 384)  1536        block_10_depthwise[0][0]         \n",
      "__________________________________________________________________________________________________\n",
      "block_10_depthwise_relu (ReLU)  (None, 14, 14, 384)  0           block_10_depthwise_BN[0][0]      \n",
      "__________________________________________________________________________________________________\n",
      "block_10_project (Conv2D)       (None, 14, 14, 96)   36864       block_10_depthwise_relu[0][0]    \n",
      "__________________________________________________________________________________________________\n",
      "block_10_project_BN (BatchNorma (None, 14, 14, 96)   384         block_10_project[0][0]           \n",
      "__________________________________________________________________________________________________\n",
      "block_11_expand (Conv2D)        (None, 14, 14, 576)  55296       block_10_project_BN[0][0]        \n",
      "__________________________________________________________________________________________________\n",
      "block_11_expand_BN (BatchNormal (None, 14, 14, 576)  2304        block_11_expand[0][0]            \n",
      "__________________________________________________________________________________________________\n",
      "block_11_expand_relu (ReLU)     (None, 14, 14, 576)  0           block_11_expand_BN[0][0]         \n",
      "__________________________________________________________________________________________________\n",
      "block_11_depthwise (DepthwiseCo (None, 14, 14, 576)  5184        block_11_expand_relu[0][0]       \n",
      "__________________________________________________________________________________________________\n",
      "block_11_depthwise_BN (BatchNor (None, 14, 14, 576)  2304        block_11_depthwise[0][0]         \n",
      "__________________________________________________________________________________________________\n",
      "block_11_depthwise_relu (ReLU)  (None, 14, 14, 576)  0           block_11_depthwise_BN[0][0]      \n",
      "__________________________________________________________________________________________________\n",
      "block_11_project (Conv2D)       (None, 14, 14, 96)   55296       block_11_depthwise_relu[0][0]    \n",
      "__________________________________________________________________________________________________\n",
      "block_11_project_BN (BatchNorma (None, 14, 14, 96)   384         block_11_project[0][0]           \n",
      "__________________________________________________________________________________________________\n",
      "block_11_add (Add)              (None, 14, 14, 96)   0           block_10_project_BN[0][0]        \n",
      "                                                                 block_11_project_BN[0][0]        \n",
      "__________________________________________________________________________________________________\n",
      "block_12_expand (Conv2D)        (None, 14, 14, 576)  55296       block_11_add[0][0]               \n",
      "__________________________________________________________________________________________________\n",
      "block_12_expand_BN (BatchNormal (None, 14, 14, 576)  2304        block_12_expand[0][0]            \n",
      "__________________________________________________________________________________________________\n",
      "block_12_expand_relu (ReLU)     (None, 14, 14, 576)  0           block_12_expand_BN[0][0]         \n",
      "__________________________________________________________________________________________________\n",
      "block_12_depthwise (DepthwiseCo (None, 14, 14, 576)  5184        block_12_expand_relu[0][0]       \n",
      "__________________________________________________________________________________________________\n",
      "block_12_depthwise_BN (BatchNor (None, 14, 14, 576)  2304        block_12_depthwise[0][0]         \n",
      "__________________________________________________________________________________________________\n",
      "block_12_depthwise_relu (ReLU)  (None, 14, 14, 576)  0           block_12_depthwise_BN[0][0]      \n",
      "__________________________________________________________________________________________________\n",
      "block_12_project (Conv2D)       (None, 14, 14, 96)   55296       block_12_depthwise_relu[0][0]    \n",
      "__________________________________________________________________________________________________\n",
      "block_12_project_BN (BatchNorma (None, 14, 14, 96)   384         block_12_project[0][0]           \n",
      "__________________________________________________________________________________________________\n",
      "block_12_add (Add)              (None, 14, 14, 96)   0           block_11_add[0][0]               \n",
      "                                                                 block_12_project_BN[0][0]        \n",
      "__________________________________________________________________________________________________\n",
      "block_13_expand (Conv2D)        (None, 14, 14, 576)  55296       block_12_add[0][0]               \n",
      "__________________________________________________________________________________________________\n",
      "block_13_expand_BN (BatchNormal (None, 14, 14, 576)  2304        block_13_expand[0][0]            \n",
      "__________________________________________________________________________________________________\n",
      "block_13_expand_relu (ReLU)     (None, 14, 14, 576)  0           block_13_expand_BN[0][0]         \n",
      "__________________________________________________________________________________________________\n",
      "block_13_pad (ZeroPadding2D)    (None, 15, 15, 576)  0           block_13_expand_relu[0][0]       \n",
      "__________________________________________________________________________________________________\n",
      "block_13_depthwise (DepthwiseCo (None, 7, 7, 576)    5184        block_13_pad[0][0]               \n",
      "__________________________________________________________________________________________________\n",
      "block_13_depthwise_BN (BatchNor (None, 7, 7, 576)    2304        block_13_depthwise[0][0]         \n",
      "__________________________________________________________________________________________________\n",
      "block_13_depthwise_relu (ReLU)  (None, 7, 7, 576)    0           block_13_depthwise_BN[0][0]      \n",
      "__________________________________________________________________________________________________\n",
      "block_13_project (Conv2D)       (None, 7, 7, 160)    92160       block_13_depthwise_relu[0][0]    \n",
      "__________________________________________________________________________________________________\n",
      "block_13_project_BN (BatchNorma (None, 7, 7, 160)    640         block_13_project[0][0]           \n",
      "__________________________________________________________________________________________________\n",
      "block_14_expand (Conv2D)        (None, 7, 7, 960)    153600      block_13_project_BN[0][0]        \n",
      "__________________________________________________________________________________________________\n",
      "block_14_expand_BN (BatchNormal (None, 7, 7, 960)    3840        block_14_expand[0][0]            \n",
      "__________________________________________________________________________________________________\n",
      "block_14_expand_relu (ReLU)     (None, 7, 7, 960)    0           block_14_expand_BN[0][0]         \n",
      "__________________________________________________________________________________________________\n",
      "block_14_depthwise (DepthwiseCo (None, 7, 7, 960)    8640        block_14_expand_relu[0][0]       \n",
      "__________________________________________________________________________________________________\n",
      "block_14_depthwise_BN (BatchNor (None, 7, 7, 960)    3840        block_14_depthwise[0][0]         \n",
      "__________________________________________________________________________________________________\n",
      "block_14_depthwise_relu (ReLU)  (None, 7, 7, 960)    0           block_14_depthwise_BN[0][0]      \n",
      "__________________________________________________________________________________________________\n",
      "block_14_project (Conv2D)       (None, 7, 7, 160)    153600      block_14_depthwise_relu[0][0]    \n",
      "__________________________________________________________________________________________________\n",
      "block_14_project_BN (BatchNorma (None, 7, 7, 160)    640         block_14_project[0][0]           \n",
      "__________________________________________________________________________________________________\n",
      "block_14_add (Add)              (None, 7, 7, 160)    0           block_13_project_BN[0][0]        \n",
      "                                                                 block_14_project_BN[0][0]        \n",
      "__________________________________________________________________________________________________\n",
      "block_15_expand (Conv2D)        (None, 7, 7, 960)    153600      block_14_add[0][0]               \n",
      "__________________________________________________________________________________________________\n",
      "block_15_expand_BN (BatchNormal (None, 7, 7, 960)    3840        block_15_expand[0][0]            \n",
      "__________________________________________________________________________________________________\n",
      "block_15_expand_relu (ReLU)     (None, 7, 7, 960)    0           block_15_expand_BN[0][0]         \n",
      "__________________________________________________________________________________________________\n",
      "block_15_depthwise (DepthwiseCo (None, 7, 7, 960)    8640        block_15_expand_relu[0][0]       \n",
      "__________________________________________________________________________________________________\n",
      "block_15_depthwise_BN (BatchNor (None, 7, 7, 960)    3840        block_15_depthwise[0][0]         \n",
      "__________________________________________________________________________________________________\n",
      "block_15_depthwise_relu (ReLU)  (None, 7, 7, 960)    0           block_15_depthwise_BN[0][0]      \n",
      "__________________________________________________________________________________________________\n",
      "block_15_project (Conv2D)       (None, 7, 7, 160)    153600      block_15_depthwise_relu[0][0]    \n",
      "__________________________________________________________________________________________________\n",
      "block_15_project_BN (BatchNorma (None, 7, 7, 160)    640         block_15_project[0][0]           \n",
      "__________________________________________________________________________________________________\n",
      "block_15_add (Add)              (None, 7, 7, 160)    0           block_14_add[0][0]               \n",
      "                                                                 block_15_project_BN[0][0]        \n",
      "__________________________________________________________________________________________________\n",
      "block_16_expand (Conv2D)        (None, 7, 7, 960)    153600      block_15_add[0][0]               \n",
      "__________________________________________________________________________________________________\n",
      "block_16_expand_BN (BatchNormal (None, 7, 7, 960)    3840        block_16_expand[0][0]            \n",
      "__________________________________________________________________________________________________\n",
      "block_16_expand_relu (ReLU)     (None, 7, 7, 960)    0           block_16_expand_BN[0][0]         \n",
      "__________________________________________________________________________________________________\n",
      "block_16_depthwise (DepthwiseCo (None, 7, 7, 960)    8640        block_16_expand_relu[0][0]       \n",
      "__________________________________________________________________________________________________\n",
      "block_16_depthwise_BN (BatchNor (None, 7, 7, 960)    3840        block_16_depthwise[0][0]         \n",
      "__________________________________________________________________________________________________\n",
      "block_16_depthwise_relu (ReLU)  (None, 7, 7, 960)    0           block_16_depthwise_BN[0][0]      \n",
      "__________________________________________________________________________________________________\n",
      "block_16_project (Conv2D)       (None, 7, 7, 320)    307200      block_16_depthwise_relu[0][0]    \n",
      "__________________________________________________________________________________________________\n",
      "block_16_project_BN (BatchNorma (None, 7, 7, 320)    1280        block_16_project[0][0]           \n",
      "__________________________________________________________________________________________________\n",
      "Conv_1 (Conv2D)                 (None, 7, 7, 1280)   409600      block_16_project_BN[0][0]        \n",
      "__________________________________________________________________________________________________\n",
      "Conv_1_bn (BatchNormalization)  (None, 7, 7, 1280)   5120        Conv_1[0][0]                     \n",
      "__________________________________________________________________________________________________\n",
      "out_relu (ReLU)                 (None, 7, 7, 1280)   0           Conv_1_bn[0][0]                  \n",
      "__________________________________________________________________________________________________\n",
      "global_average_pooling2d (Globa (None, 1280)         0           out_relu[0][0]                   \n",
      "==================================================================================================\n",
      "Total params: 2,257,984\n",
      "Trainable params: 2,223,872\n",
      "Non-trainable params: 34,112\n",
      "__________________________________________________________________________________________________\n"
     ]
    }
   ],
   "source": [
    "import tensorflow\n",
    "# This network has many hyper parameters that you have to adjust first\n",
    "# The first hyperparameter gives you the freedom to choose whether to enter the final dense layer of the network or cancel it, in which case it has been cancelled.\n",
    "# By specifying include_top= False we exclude the prediction layer which allows us to substitute our custom prediction layer later on.\n",
    "mnet = tensorflow.keras.applications.mobilenet_v2.MobileNetV2(include_top=False, \n",
    "                                                      input_shape=(220, 220, 3),#same as of custom model\n",
    "                                                      pooling='avg',\n",
    "                                                      weights='imagenet')\n",
    "\n",
    "mnet.summary()"
   ]
  },
  {
   "cell_type": "code",
   "execution_count": 15,
   "metadata": {
    "id": "kSDKs3-auEMi"
   },
   "outputs": [],
   "source": [
    "model2=tf.keras.Sequential([\n",
    "    mnet,\n",
    "    Dropout(0.25),\n",
    "    Dense(10,activation='softmax') # here we use 10 layers because we have to predict bewtween 10 classes\n",
    "    \n",
    "])\n"
   ]
  },
  {
   "cell_type": "code",
   "execution_count": 16,
   "metadata": {
    "id": "L0aXWHmIuEOW"
   },
   "outputs": [],
   "source": [
    "# here we freezed the layer that responsible for feature extraction\n",
    "model2.layers[0].trainable = False\n"
   ]
  },
  {
   "cell_type": "code",
   "execution_count": 17,
   "metadata": {
    "id": "JyK1FF8UuEQT",
    "scrolled": true
   },
   "outputs": [
    {
     "name": "stdout",
     "output_type": "stream",
     "text": [
      "Epoch 1/20\n",
      "28/28 [==============================] - 8s 256ms/step - loss: 1.8803 - accuracy: 0.3554 - precision_1: 0.6957 - recall_1: 0.0964 - val_loss: 1.1252 - val_accuracy: 0.7027 - val_precision_1: 0.9659 - val_recall_1: 0.2553\n",
      "Epoch 2/20\n",
      "28/28 [==============================] - 6s 237ms/step - loss: 0.8022 - accuracy: 0.8072 - precision_1: 0.9661 - recall_1: 0.5151 - val_loss: 0.6334 - val_accuracy: 0.9039 - val_precision_1: 0.9770 - val_recall_1: 0.6366\n",
      "Epoch 3/20\n",
      "28/28 [==============================] - 7s 238ms/step - loss: 0.4296 - accuracy: 0.9488 - precision_1: 0.9962 - recall_1: 0.7831 - val_loss: 0.4490 - val_accuracy: 0.9189 - val_precision_1: 0.9744 - val_recall_1: 0.7988\n",
      "Epoch 4/20\n",
      "28/28 [==============================] - 7s 236ms/step - loss: 0.3003 - accuracy: 0.9639 - precision_1: 0.9796 - recall_1: 0.8675 - val_loss: 0.3611 - val_accuracy: 0.9459 - val_precision_1: 0.9728 - val_recall_1: 0.8589\n",
      "Epoch 5/20\n",
      "28/28 [==============================] - 7s 236ms/step - loss: 0.1952 - accuracy: 0.9910 - precision_1: 1.0000 - recall_1: 0.9518 - val_loss: 0.3105 - val_accuracy: 0.9489 - val_precision_1: 0.9675 - val_recall_1: 0.8949\n",
      "Epoch 6/20\n",
      "28/28 [==============================] - 7s 238ms/step - loss: 0.1540 - accuracy: 0.9970 - precision_1: 0.9969 - recall_1: 0.9699 - val_loss: 0.2840 - val_accuracy: 0.9399 - val_precision_1: 0.9670 - val_recall_1: 0.8799\n",
      "Epoch 7/20\n",
      "28/28 [==============================] - 7s 237ms/step - loss: 0.1341 - accuracy: 0.9940 - precision_1: 0.9969 - recall_1: 0.9789 - val_loss: 0.2610 - val_accuracy: 0.9459 - val_precision_1: 0.9712 - val_recall_1: 0.9099\n",
      "Epoch 8/20\n",
      "28/28 [==============================] - 6s 236ms/step - loss: 0.1061 - accuracy: 0.9940 - precision_1: 1.0000 - recall_1: 0.9849 - val_loss: 0.2397 - val_accuracy: 0.9520 - val_precision_1: 0.9651 - val_recall_1: 0.9129\n",
      "Epoch 9/20\n",
      "28/28 [==============================] - 7s 238ms/step - loss: 0.0877 - accuracy: 1.0000 - precision_1: 1.0000 - recall_1: 0.9970 - val_loss: 0.2294 - val_accuracy: 0.9520 - val_precision_1: 0.9654 - val_recall_1: 0.9219\n",
      "Epoch 10/20\n",
      "28/28 [==============================] - 7s 238ms/step - loss: 0.0744 - accuracy: 1.0000 - precision_1: 1.0000 - recall_1: 0.9970 - val_loss: 0.2178 - val_accuracy: 0.9550 - val_precision_1: 0.9686 - val_recall_1: 0.9249\n",
      "Epoch 11/20\n",
      "28/28 [==============================] - 7s 238ms/step - loss: 0.0648 - accuracy: 1.0000 - precision_1: 1.0000 - recall_1: 0.9970 - val_loss: 0.2123 - val_accuracy: 0.9550 - val_precision_1: 0.9717 - val_recall_1: 0.9279\n",
      "Epoch 12/20\n",
      "28/28 [==============================] - 7s 238ms/step - loss: 0.0541 - accuracy: 1.0000 - precision_1: 1.0000 - recall_1: 1.0000 - val_loss: 0.2039 - val_accuracy: 0.9550 - val_precision_1: 0.9716 - val_recall_1: 0.9249\n",
      "Epoch 13/20\n",
      "28/28 [==============================] - 7s 237ms/step - loss: 0.0505 - accuracy: 1.0000 - precision_1: 1.0000 - recall_1: 1.0000 - val_loss: 0.2033 - val_accuracy: 0.9550 - val_precision_1: 0.9657 - val_recall_1: 0.9309\n",
      "Epoch 14/20\n",
      "28/28 [==============================] - 7s 237ms/step - loss: 0.0424 - accuracy: 1.0000 - precision_1: 1.0000 - recall_1: 1.0000 - val_loss: 0.1963 - val_accuracy: 0.9489 - val_precision_1: 0.9688 - val_recall_1: 0.9309\n",
      "Epoch 15/20\n",
      "28/28 [==============================] - 7s 237ms/step - loss: 0.0370 - accuracy: 1.0000 - precision_1: 1.0000 - recall_1: 1.0000 - val_loss: 0.1944 - val_accuracy: 0.9550 - val_precision_1: 0.9659 - val_recall_1: 0.9369\n",
      "Epoch 16/20\n",
      "28/28 [==============================] - 7s 238ms/step - loss: 0.0391 - accuracy: 1.0000 - precision_1: 1.0000 - recall_1: 1.0000 - val_loss: 0.1864 - val_accuracy: 0.9520 - val_precision_1: 0.9688 - val_recall_1: 0.9339\n",
      "Epoch 17/20\n",
      "28/28 [==============================] - 7s 238ms/step - loss: 0.0344 - accuracy: 1.0000 - precision_1: 1.0000 - recall_1: 1.0000 - val_loss: 0.1872 - val_accuracy: 0.9520 - val_precision_1: 0.9657 - val_recall_1: 0.9309\n",
      "Epoch 18/20\n",
      "28/28 [==============================] - 7s 238ms/step - loss: 0.0289 - accuracy: 1.0000 - precision_1: 1.0000 - recall_1: 1.0000 - val_loss: 0.1798 - val_accuracy: 0.9520 - val_precision_1: 0.9631 - val_recall_1: 0.9399\n",
      "Epoch 19/20\n",
      "28/28 [==============================] - 7s 237ms/step - loss: 0.0275 - accuracy: 1.0000 - precision_1: 1.0000 - recall_1: 1.0000 - val_loss: 0.1759 - val_accuracy: 0.9550 - val_precision_1: 0.9662 - val_recall_1: 0.9429\n",
      "Epoch 20/20\n",
      "28/28 [==============================] - 7s 239ms/step - loss: 0.0273 - accuracy: 1.0000 - precision_1: 1.0000 - recall_1: 1.0000 - val_loss: 0.1740 - val_accuracy: 0.9550 - val_precision_1: 0.9662 - val_recall_1: 0.9429\n",
      "Model: \"sequential_2\"\n",
      "_________________________________________________________________\n",
      "Layer (type)                 Output Shape              Param #   \n",
      "=================================================================\n",
      "mobilenetv2_1.00_224 (Functi (None, 1280)              2257984   \n",
      "_________________________________________________________________\n",
      "dropout_2 (Dropout)          (None, 1280)              0         \n",
      "_________________________________________________________________\n",
      "dense_3 (Dense)              (None, 10)                12810     \n",
      "=================================================================\n",
      "Total params: 2,270,794\n",
      "Trainable params: 12,810\n",
      "Non-trainable params: 2,257,984\n",
      "_________________________________________________________________\n"
     ]
    }
   ],
   "source": [
    "model2.compile(loss='categorical_crossentropy', optimizer='adam', metrics=['accuracy',Precision(), Recall()])\n",
    "#Here we supply our training data to the mobilenet model.\n",
    "history2=model2.fit(x_train,y_train,batch_size=12, epochs=20,validation_split=0.3)\n",
    "model2.summary()"
   ]
  },
  {
   "cell_type": "code",
   "execution_count": 18,
   "metadata": {
    "id": "0pIR-gCNuESS"
   },
   "outputs": [
    {
     "name": "stdout",
     "output_type": "stream",
     "text": [
      "6/6 [==============================] - 1s 235ms/step - loss: 0.1873 - accuracy: 0.9461 - precision_1: 0.9747 - recall_1: 0.9222\n"
     ]
    },
    {
     "data": {
      "image/png": "[encoded data removed]",
      "text/plain": [
       "<Figure size 864x576 with 1 Axes>"
      ]
     },
     "metadata": {},
     "output_type": "display_data"
    }
   ],
   "source": [
    "loss,accuracy,precision,recall=model2.evaluate(x_test,y_test)\n",
    "sns.set_style('darkgrid')\n",
    "plt.figure(figsize=(12,8))\n",
    "plt.plot(history2.history['accuracy'])\n",
    "plt.plot(history2.history['val_accuracy'])\n",
    "plt.xlabel('Epochs')\n",
    "plt.ylabel('Accuracy score')\n",
    "plt.title('Model Accuracy')\n",
    "plt.legend(['Train','Test'])\n",
    "plt.show()"
   ]
  },
  {
   "cell_type": "code",
   "execution_count": 19,
   "metadata": {},
   "outputs": [
    {
     "data": {
      "image/png": "[encoded data removed]",
      "text/plain": [
       "<Figure size 864x576 with 1 Axes>"
      ]
     },
     "metadata": {},
     "output_type": "display_data"
    }
   ],
   "source": [
    "sns.set_style('darkgrid')\n",
    "plt.figure(figsize=(12,8))\n",
    "plt.plot(history2.history['precision_1'])\n",
    "plt.plot(history2.history['val_precision_1'])\n",
    "plt.xlabel('Epochs')\n",
    "plt.ylabel('Precision')\n",
    "plt.title('Model Precision')\n",
    "plt.legend(['Train','Test'])\n",
    "plt.show()"
   ]
  },
  {
   "cell_type": "code",
   "execution_count": 20,
   "metadata": {},
   "outputs": [
    {
     "data": {
      "image/png": "[encoded data removed]",
      "text/plain": [
       "<Figure size 864x576 with 1 Axes>"
      ]
     },
     "metadata": {},
     "output_type": "display_data"
    }
   ],
   "source": [
    "sns.set_style('darkgrid')\n",
    "plt.figure(figsize=(12,8))\n",
    "plt.plot(history2.history['recall_1'])\n",
    "plt.plot(history2.history['val_recall_1'])\n",
    "plt.xlabel('Epochs')\n",
    "plt.ylabel('Recall')\n",
    "plt.title('Model Recall')\n",
    "plt.legend(['Train','Test'])\n",
    "plt.show()"
   ]
  },
  {
   "cell_type": "code",
   "execution_count": 21,
   "metadata": {},
   "outputs": [
    {
     "name": "stdout",
     "output_type": "stream",
     "text": [
      "[0.35542169213294983, 0.8072289228439331, 0.9487951993942261, 0.9638554453849792, 0.990963876247406, 0.9969879388809204, 0.9939758777618408, 0.9939758777618408, 1.0, 1.0, 1.0, 1.0, 1.0, 1.0, 1.0, 1.0, 1.0, 1.0, 1.0, 1.0]\n"
     ]
    }
   ],
   "source": [
    "print(history2.history['accuracy'])"
   ]
  },
  {
   "cell_type": "code",
   "execution_count": 22,
   "metadata": {},
   "outputs": [
    {
     "name": "stdout",
     "output_type": "stream",
     "text": [
      "\n",
      "Average Train Recall:\n",
      "0.9069277107715606\n",
      "\n",
      "Average Test Recall:\n",
      "0.8668168053030968\n"
     ]
    }
   ],
   "source": [
    "sumTrain = 0\n",
    "sumTest = 0\n",
    "for x in history2.history['recall_1']:\n",
    "    sumTrain += x\n",
    "    \n",
    "for x in history2.history['val_recall_1']:\n",
    "    sumTest += x\n",
    "\n",
    "print(\"\")\n",
    "print(\"Average Train Recall:\")\n",
    "print(sumTrain / len(history2.history['recall_1']))\n",
    "\n",
    "print(\"\")\n",
    "print(\"Average Test Recall:\")\n",
    "print(sumTest / len(history2.history['val_recall_1']))\n",
    "\n"
   ]
  },
  {
   "cell_type": "code",
   "execution_count": 23,
   "metadata": {},
   "outputs": [
    {
     "name": "stdout",
     "output_type": "stream",
     "text": [
      "\n",
      "Average Train Accuracy:\n",
      "0.9525602415204049\n",
      "\n",
      "Average Test Accuracy:\n",
      "0.9349849939346313\n"
     ]
    }
   ],
   "source": [
    "sumTrain = 0\n",
    "sumTest = 0\n",
    "for x in history2.history['accuracy']:\n",
    "    sumTrain += x\n",
    "    \n",
    "for x in history2.history['val_accuracy']:\n",
    "    sumTest += x\n",
    "\n",
    "print(\"\")\n",
    "print(\"Average Train Accuracy:\")\n",
    "print(sumTrain / len(history2.history['accuracy']))\n",
    "\n",
    "print(\"\")\n",
    "print(\"Average Test Accuracy:\")\n",
    "print(sumTest / len(history2.history['val_accuracy']))\n",
    "\n"
   ]
  },
  {
   "cell_type": "code",
   "execution_count": 24,
   "metadata": {},
   "outputs": [
    {
     "name": "stdout",
     "output_type": "stream",
     "text": [
      "\n",
      "Average Train Precision:\n",
      "0.9815675407648087\n",
      "\n",
      "Average Test Precision:\n",
      "0.9684218883514404\n"
     ]
    }
   ],
   "source": [
    "sumTrain = 0\n",
    "sumTest = 0\n",
    "for x in history2.history['precision_1']:\n",
    "    sumTrain += x\n",
    "    \n",
    "for x in history2.history['val_precision_1']:\n",
    "    sumTest += x\n",
    "\n",
    "print(\"\")\n",
    "print(\"Average Train Precision:\")\n",
    "print(sumTrain / len(history2.history['precision_1']))\n",
    "\n",
    "print(\"\")\n",
    "print(\"Average Test Precision:\")\n",
    "print(sumTest / len(history2.history['val_precision_1']))\n",
    "\n"
   ]
  },
  {
   "cell_type": "code",
   "execution_count": null,
   "metadata": {},
   "outputs": [],
   "source": []
  }
 ],
 "metadata": {
  "colab": {
   "collapsed_sections": [],
   "name": "Untitled2.ipynb",
   "provenance": []
  },
  "kernelspec": {
   "display_name": "Python 3 (ipykernel)",
   "language": "python",
   "name": "python3"
  },
  "language_info": {
   "codemirror_mode": {
    "name": "ipython",
    "version": 3
   },
   "file_extension": ".py",
   "mimetype": "text/x-python",
   "name": "python",
   "nbconvert_exporter": "python",
   "pygments_lexer": "ipython3",
   "version": "3.8.3"
  }
 },
 "nbformat": 4,
 "nbformat_minor": 4
}
